{
 "cells": [
  {
   "cell_type": "markdown",
   "id": "8138f0fc-fe3f-4a71-8c12-c46da615d597",
   "metadata": {},
   "source": [
    "# Data Science Tools and Ecosystem"
   ]
  },
  {
   "cell_type": "markdown",
   "id": "979eeb75-5190-414d-8b30-cf6dd5b289fc",
   "metadata": {},
   "source": [
    "In this notebook, Data Science Tools and Ecosystem are summarized."
   ]
  },
  {
   "cell_type": "markdown",
   "id": "1c7f7e17-5bd9-4b82-bf9b-71195557fbf9",
   "metadata": {},
   "source": [
    "__Objectives:__"
   ]
  },
  {
   "cell_type": "markdown",
   "id": "4e39a951-62ad-46d6-aa40-9f63c2d23684",
   "metadata": {},
   "source": [
    "- List popular languages in Data Science\n",
    "- List commonly used libraries used by Data Scientists\n",
    "- Show knowledge of simple arithmetic equations"
   ]
  },
  {
   "cell_type": "markdown",
   "id": "6ba2e63b-c982-47b4-b06e-0bc4c5acadcd",
   "metadata": {},
   "source": [
    "**Some of the popular languages that Data Scientists use are:**"
   ]
  },
  {
   "cell_type": "markdown",
   "id": "1f206355-62aa-49c6-9dea-09e5806f0ac7",
   "metadata": {},
   "source": [
    "1. Python\n",
    "2. SQL\n",
    "3. R\n",
    "4. Java\n",
    "5. Scala"
   ]
  },
  {
   "cell_type": "markdown",
   "id": "8750f3fa-f866-46ae-a607-f70c7f79ae70",
   "metadata": {},
   "source": [
    "**Some of the commonly used libraries used by Data Scientists include:**"
   ]
  },
  {
   "cell_type": "markdown",
   "id": "365fba03-083d-41f5-bbe4-092d15e09930",
   "metadata": {},
   "source": [
    "1. NumPy\n",
    "2. Pandas\n",
    "3. Matplotlib\n",
    "4. ApacheSpark\n",
    "5. Scikit-learn"
   ]
  },
  {
   "cell_type": "markdown",
   "id": "2c799b59-c1d2-415c-976d-d53c0a621a6c",
   "metadata": {},
   "source": [
    "|Data Science Tools|\n",
    "--------------------\n",
    "|Jupyter Notebook|\n",
    "|RStudio|\n",
    "|Anaconda|"
   ]
  },
  {
   "cell_type": "markdown",
   "id": "30a414ff-cd4b-475a-be56-491ef9ba7414",
   "metadata": {},
   "source": [
    "### Below are a few examples of evaluating arithmetic expressions in Python"
   ]
  },
  {
   "cell_type": "markdown",
   "id": "e25af37a-6dbd-49cb-9bd3-7243d72bd807",
   "metadata": {},
   "source": [
    "_This a simple arithmetic expression to mutiply then add integers:_"
   ]
  },
  {
   "cell_type": "code",
   "execution_count": 4,
   "id": "0a001d7f-bc4e-45ad-b039-6ca5267c55fe",
   "metadata": {},
   "outputs": [
    {
     "data": {
      "text/plain": [
       "17"
      ]
     },
     "execution_count": 4,
     "metadata": {},
     "output_type": "execute_result"
    }
   ],
   "source": [
    "(3*4)+5"
   ]
  },
  {
   "cell_type": "markdown",
   "id": "6ad0e87a-30b8-431c-a1bf-83c4867f2f21",
   "metadata": {},
   "source": [
    "_This will convert 200 minutes to hours by diving by 60:_"
   ]
  },
  {
   "cell_type": "code",
   "execution_count": 5,
   "id": "fca81302-11e3-480e-99db-33a66a6185c0",
   "metadata": {},
   "outputs": [
    {
     "data": {
      "text/plain": [
       "3.3333333333333335"
      ]
     },
     "execution_count": 5,
     "metadata": {},
     "output_type": "execute_result"
    }
   ],
   "source": [
    "200/60"
   ]
  },
  {
   "cell_type": "markdown",
   "id": "efaf6c5d-c24a-4f1d-916a-2ba937e8c107",
   "metadata": {},
   "source": [
    "## Author"
   ]
  },
  {
   "cell_type": "markdown",
   "id": "b6fa8ecd-a417-4c4f-818b-60197b1f0688",
   "metadata": {},
   "source": [
    "Eliza Tolici"
   ]
  },
  {
   "cell_type": "code",
   "execution_count": null,
   "id": "714c0c22-e6d0-4fcb-9dfc-65c2de58448a",
   "metadata": {},
   "outputs": [],
   "source": []
  }
 ],
 "metadata": {
  "kernelspec": {
   "display_name": "Python 3 (ipykernel)",
   "language": "python",
   "name": "python3"
  },
  "language_info": {
   "codemirror_mode": {
    "name": "ipython",
    "version": 3
   },
   "file_extension": ".py",
   "mimetype": "text/x-python",
   "name": "python",
   "nbconvert_exporter": "python",
   "pygments_lexer": "ipython3",
   "version": "3.11.7"
  }
 },
 "nbformat": 4,
 "nbformat_minor": 5
}
